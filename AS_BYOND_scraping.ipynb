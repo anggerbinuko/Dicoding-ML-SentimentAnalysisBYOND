{
  "nbformat": 4,
  "nbformat_minor": 0,
  "metadata": {
    "colab": {
      "provenance": []
    },
    "kernelspec": {
      "name": "python3",
      "display_name": "Python 3"
    },
    "language_info": {
      "name": "python"
    }
  },
  "cells": [
    {
      "cell_type": "markdown",
      "source": [
        "# 1. Install dependencies"
      ],
      "metadata": {
        "id": "LYFgkwNIlRP0"
      }
    },
    {
      "cell_type": "code",
      "source": [
        "# 0. Install dependencies\n",
        "import subprocess\n",
        "subprocess.run([\"pip\", \"install\", \"google-play-scraper\"])"
      ],
      "metadata": {
        "colab": {
          "base_uri": "https://localhost:8080/"
        },
        "collapsed": true,
        "id": "d0p9reX8lV0o",
        "outputId": "a3dc2428-06da-47b9-c8c7-321f0456581c"
      },
      "execution_count": null,
      "outputs": [
        {
          "output_type": "execute_result",
          "data": {
            "text/plain": [
              "CompletedProcess(args=['pip', 'install', 'google-play-scraper'], returncode=0)"
            ]
          },
          "metadata": {},
          "execution_count": 9
        }
      ]
    },
    {
      "cell_type": "markdown",
      "source": [
        "# 2. Pengumpulan Data (Scraping dengan Google Play Scraper)"
      ],
      "metadata": {
        "id": "dWF8Mts6libx"
      }
    },
    {
      "cell_type": "code",
      "source": [
        "from google_play_scraper import reviews, Sort\n",
        "\n",
        "# 1. Pengumpulan Data (Scraping dengan Google Play Scraper)\n",
        "app_id = 'co.id.bankbsi.superapp'\n",
        "\n",
        "# Scraping reviews for BYOND by BSI app\n",
        "result, _ = reviews(\n",
        "    app_id,                   # App ID for BYOND by BSI\n",
        "    lang='id',                # Language: Indonesian\n",
        "    country='id',             # Country: Indonesia\n",
        "    sort=Sort.NEWEST,         # Sort by newest reviews\n",
        "    count=10000               # Minimum 10000 reviews\n",
        ")"
      ],
      "metadata": {
        "id": "TVa-BR4xlgiI"
      },
      "execution_count": null,
      "outputs": []
    },
    {
      "cell_type": "markdown",
      "source": [
        "# Simpan Hasil Scraping (file .csv)"
      ],
      "metadata": {
        "id": "_gckNsw5TBAN"
      }
    },
    {
      "cell_type": "code",
      "source": [
        "import pandas as pd\n",
        "\n",
        "# Convert ke DataFrame\n",
        "df = pd.DataFrame(result)\n",
        "\n",
        "# Simpan hasil scraping ke CSV\n",
        "df.to_csv('byond_bsi_reviews.csv', index=False)\n",
        "print(\"Data has been saved to 'byond_bsi_reviews.csv'\")"
      ],
      "metadata": {
        "colab": {
          "base_uri": "https://localhost:8080/"
        },
        "id": "DGMGNn27Qp0t",
        "outputId": "89c07417-4480-4090-b893-f5e1ebb33882"
      },
      "execution_count": null,
      "outputs": [
        {
          "output_type": "stream",
          "name": "stdout",
          "text": [
            "Data has been saved to 'byond_bsi_reviews.csv'\n"
          ]
        }
      ]
    }
  ]
}